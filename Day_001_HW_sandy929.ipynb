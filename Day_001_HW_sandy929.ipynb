{
 "cells": [
  {
   "cell_type": "markdown",
   "metadata": {},
   "source": [
    "## 練習時間\n",
    "#### 請寫一個函式用來計算 Mean Square Error\n",
    "$ MSE = \\frac{1}{n}\\sum_{i=1}^{n}{(Y_i - \\hat{Y}_i)^2} $\n",
    "\n",
    "### Hint: [如何取平方](https://googoodesign.gitbooks.io/-ezpython/unit-1.html)"
   ]
  },
  {
   "cell_type": "markdown",
   "metadata": {},
   "source": [
    "# [作業目標]\n",
    "- 仿造範例的MAE函數, 自己寫一個MSE函數(參考上面公式)"
   ]
  },
  {
   "cell_type": "markdown",
   "metadata": {},
   "source": [
    "# [作業重點]\n",
    "- 注意程式的縮排\n",
    "- 是否能將數學公式, 轉換為 Python 的函式組合? (In[2], Out[2])"
   ]
  },
  {
   "cell_type": "code",
   "execution_count": 1,
   "metadata": {},
   "outputs": [],
   "source": [
    "# 載入基礎套件與代稱\n",
    "import numpy as np\n",
    "import matplotlib.pyplot as plt"
   ]
  },
  {
   "cell_type": "code",
   "execution_count": 17,
   "metadata": {},
   "outputs": [],
   "source": [
    "def mean_absolute_error(y, yp):\n",
    "    \"\"\"\n",
    "    計算 MAE\n",
    "    Args:\n",
    "        - y: 實際值\n",
    "        - yp: 預測值\n",
    "    Return:\n",
    "        - mae: MAE\n",
    "    \"\"\"\n",
    "    mae = MAE = sum(abs(y - yp)) / len(y)\n",
    "    return mae\n",
    "\n",
    "# 定義 mean_squared_error 這個函數, 計算並傳回 MSE\n",
    "def mean_squared_error(y, yp):\n",
    "    \"\"\"\n",
    "    #請完成這個 Function 後往下執行\n",
    "    \n",
    "    計算 MSE\n",
    "    Args:\n",
    "        - y: 實際值\n",
    "        - yp: 預測值\n",
    "    Return:\n",
    "        - mae: MSE\n",
    "    \n",
    "    \"\"\"\n",
    "    mse = MSE = sum((y-yp)**2) / len(y)\n",
    "    return(mse)"
   ]
  },
  {
   "cell_type": "code",
   "execution_count": 18,
   "metadata": {},
   "outputs": [
    {
     "data": {
      "image/png": "[encoded data removed]",
      "text/plain": [
       "<Figure size 432x288 with 1 Axes>"
      ]
     },
     "metadata": {
      "needs_background": "light"
     },
     "output_type": "display_data"
    }
   ],
   "source": [
    "# 與範例相同, 不另外解說\n",
    "w = 3\n",
    "b = 0.5\n",
    "x_lin = np.linspace(0, 100, 101)\n",
    "y = (x_lin + np.random.randn(101) * 5) * w + b\n",
    "\n",
    "plt.plot(x_lin, y, 'b.', label = 'data points')\n",
    "plt.title(\"Assume we have data points\")\n",
    "plt.legend(loc = 2)\n",
    "plt.show()"
   ]
  },
  {
   "cell_type": "code",
   "execution_count": 19,
   "metadata": {},
   "outputs": [
    {
     "data": {
      "image/png": "[encoded data removed]",
      "text/plain": [
       "<Figure size 432x288 with 1 Axes>"
      ]
     },
     "metadata": {
      "needs_background": "light"
     },
     "output_type": "display_data"
    }
   ],
   "source": [
    "# 與範例相同, 不另外解說\n",
    "y_hat = x_lin * w + b\n",
    "plt.plot(x_lin, y, 'b.', label = 'data')\n",
    "plt.plot(x_lin, y_hat, 'r-', label = 'prediction')\n",
    "plt.title(\"Assume we have data points (And the prediction)\")\n",
    "plt.legend(loc = 2)\n",
    "plt.show()"
   ]
  },
  {
   "cell_type": "code",
   "execution_count": 20,
   "metadata": {},
   "outputs": [
    {
     "name": "stdout",
     "output_type": "stream",
     "text": [
      "The Mean squared error is 254.490\n",
      "The Mean absolute error is 12.672\n"
     ]
    }
   ],
   "source": [
    "# 執行 Function, 確認有沒有正常執行\n",
    "MSE = mean_squared_error(y, y_hat)\n",
    "MAE = mean_absolute_error(y, y_hat)\n",
    "print(\"The Mean squared error is %.3f\" % (MSE))\n",
    "print(\"The Mean absolute error is %.3f\" % (MAE))"
   ]
  },
  {
   "cell_type": "markdown",
   "metadata": {},
   "source": [
    "# [作業2]\n",
    "\n",
    "請上 Kaggle, 在 Competitions 或 Dataset 中找一組競賽或資料並寫下：\n",
    "\n",
    "1. 你選的這組資料為何重要\n",
    "\n",
    "2. 資料從何而來 (tips: 譬如提供者是誰、以什麼方式蒐集)\n",
    "\n",
    "3. 蒐集而來的資料型態為何\n",
    "\n",
    "4. 這組資料想解決的問題如何評估\n"
   ]
  },
  {
   "cell_type": "markdown",
   "metadata": {},
   "source": [
    "##[作業2-作答]\n",
    "\n",
    "選取資料：Mental Health in the Tech Industry (https://www.kaggle.com/anth7310/mental-health-in-the-tech-industry)\n",
    "\n",
    "1. 你選的這組資料為何重要：這組資料是針對科技行業工作者所做的心理健康調查。做為同為工程師的自己，覺得需要去探討科技行業工作者的心理狀況。\n",
    "\n",
    "\n",
    "2. 資料從何而來：是來自 Open Source Mental Illness (OSMI)這個組織所提供之資料，其使用2014、2016、2017、2018和2019年的調查數據。\n",
    "\n",
    "\n",
    "3. 蒐集而來的資料型態為何：\n",
    "\n",
    "   (1)資料庫：SQLite\n",
    "   \n",
    "   (2)資料庫內含數據庫：包含3張表，Survey(受訪者基本資料)、Question(問題集)、Answer(受訪者填答結果)\n",
    "   \n",
    "   (3)資料型態：包含結構化資料，如數值型、類別型資料；亦包含文字型資料。\n",
    "   \n",
    "\n",
    "4. 這組資料想解決的問題如何評估：需先從探索性資料(EDA)先初探，才知道需用什麼方式解決與評估。\n"
   ]
  },
  {
   "cell_type": "markdown",
   "metadata": {},
   "source": [
    "# [作業3]\n",
    "\n",
    "想像你經營一個自由載客車隊，你希望能透過數據分析以提升業績，請你思考並描述你如何規劃整體的分析/解決方案：\n",
    "\n",
    "1. 核心問題為何 (tips：如何定義 「提升業績 & 你的假設」)\n",
    "\n",
    "2. 資料從何而來 (tips：哪些資料可能會對你想問的問題產生影響 & 資料如何蒐集)\n",
    "\n",
    "3. 蒐集而來的資料型態為何\n",
    "\n",
    "4. 你要回答的問題，其如何評估 (tips：你的假設如何驗證)"
   ]
  },
  {
   "cell_type": "markdown",
   "metadata": {},
   "source": [
    "##[作業3-作答]\n",
    "\n",
    "1. 核心問題為何：\n",
    "\n",
    "   (1)現況：以目前台灣載客車隊現況來講，主要包含派遣車(車隊派遣小黃、Uber、Line taxi)、路上隨招小黃，載客市場競爭激烈。\n",
    "   \n",
    "   (2)問題：針對旗下車隊做出合適之排班狀況，避免司機空班，造成人力與油費成本消耗。\n",
    "   \n",
    "   (3)解決方式：需先蒐集每時段載客量，並先預測未來時段載客量，以利建置排班系統。\n",
    "   \n",
    "   \n",
    "2. 資料從何而來：\n",
    "   蒐集車隊旗下每位司機，每時段載客量、每段路程量、車資、載客人數等。\n",
    "   \n",
    "   \n",
    "3. 蒐集而來的資料型態為何：應為數值型資料。\n",
    "\n",
    "\n",
    "4. 你要回答的問題，其如何評估：根據預測之載客量，建置排班系統，並記錄實際載客量與排班狀況。\n",
    "   "
   ]
  }
 ],
 "metadata": {
  "anaconda-cloud": {},
  "kernelspec": {
   "display_name": "Python 3",
   "language": "python",
   "name": "python3"
  },
  "language_info": {
   "codemirror_mode": {
    "name": "ipython",
    "version": 3
   },
   "file_extension": ".py",
   "mimetype": "text/x-python",
   "name": "python",
   "nbconvert_exporter": "python",
   "pygments_lexer": "ipython3",
   "version": "3.7.3"
  }
 },
 "nbformat": 4,
 "nbformat_minor": 1
}
